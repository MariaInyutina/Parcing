{
  "nbformat": 4,
  "nbformat_minor": 0,
  "metadata": {
    "colab": {
      "provenance": [],
      "authorship_tag": "ABX9TyO0RdNi/L6Nx/nrBkEh5PWe",
      "include_colab_link": true
    },
    "kernelspec": {
      "name": "python3",
      "display_name": "Python 3"
    },
    "language_info": {
      "name": "python"
    }
  },
  "cells": [
    {
      "cell_type": "markdown",
      "metadata": {
        "id": "view-in-github",
        "colab_type": "text"
      },
      "source": [
        "<a href=\"https://colab.research.google.com/github/MariaInyutina/Parcing/blob/main/Parcing_extra_TG_weekly.ipynb\" target=\"_parent\"><img src=\"https://colab.research.google.com/assets/colab-badge.svg\" alt=\"Open In Colab\"/></a>"
      ]
    },
    {
      "cell_type": "code",
      "execution_count": null,
      "metadata": {
        "id": "nVyWWHuvOR8r"
      },
      "outputs": [],
      "source": [
        "!pip install telethon"
      ]
    },
    {
      "cell_type": "code",
      "source": [
        "from telethon import TelegramClient\n",
        "from telethon.tl.functions.messages import GetHistoryRequest\n",
        "from datetime import datetime, timedelta, timezone\n",
        "import pandas as pd\n",
        "\n",
        "# Параметры для Telegram API\n",
        "API_ID =\n",
        "API_HASH = ''\n",
        "CHANNEL_USERNAME = ''  # Имя пользователя канала\n",
        "phone = ''\n",
        "session_name = 'parcing'\n",
        "# Инициализация клиента\n",
        "client = TelegramClient(session_name, API_ID, API_HASH)\n",
        "\n",
        "# Функция для сбора статистики за определённый период\n",
        "async def get_channel_stats(start_date, end_date):\n",
        "    await client.start()\n",
        "    stats = []\n",
        "\n",
        "    # Получение истории сообщений канала за указанный период\n",
        "    async for message in client.iter_messages(CHANNEL_USERNAME, offset_date=end_date):\n",
        "        if message.date < start_date:\n",
        "            break\n",
        "\n",
        "        # Подсчет количества реакций\n",
        "        reactions_count = sum(reaction.count for reaction in message.reactions.results) if message.reactions else 0\n",
        "\n",
        "        # Сбор информации о сообщении\n",
        "        data = {\n",
        "            'date': message.date.strftime('%d-%m-%y'),  # Форматируем дату как ДД-ММ-ГГ\n",
        "            'post_title': message.message[:30] if message.message else \"Без текста\",  # Первые 30 символов текста как заголовок\n",
        "            'post_link': f'https://t.me/{CHANNEL_USERNAME}/{message.id}',  # Ссылка на пост\n",
        "            'views': message.views,\n",
        "            'reactions': reactions_count,\n",
        "            'comments': message.replies.replies if message.replies else 0,\n",
        "            'public_reposts': message.forwards if message.forwards else 0,\n",
        "            'private_reposts': None,  # Telegram не предоставляет разделение репостов на публичные и непубличные\n",
        "            'comments': message.replies.replies if message.replies else 0\n",
        "        }\n",
        "        stats.append(data)\n",
        "\n",
        "    # Сохранение данных в таблицу\n",
        "    df = pd.DataFrame(stats)\n",
        "    df.to_excel('telegram_extra_stats.xlsx', index=False)  # Сохранение в файл Excel\n",
        "    print(\"Данные успешно сохранены в telegram_extra_stats.xlsx\")\n",
        "\n",
        "# Запрос ввода даты от пользователя\n",
        "start_date_input = input(\"Введите начальную дату в формате ГГГГ-ММ-ДД: \")\n",
        "end_date_input = input(\"Введите конечную дату в формате ГГГГ-ММ-ДД: \")\n",
        "\n",
        "# Преобразование ввода в формат даты с временной зоной UTC\n",
        "start_date = datetime.strptime(start_date_input, '%Y-%m-%d').replace(tzinfo=timezone.utc)\n",
        "end_date = datetime.strptime(end_date_input, '%Y-%m-%d').replace(tzinfo=timezone.utc)\n",
        "\n",
        "# Основная функция с использованием async with\n",
        "async def main():\n",
        "    async with client:\n",
        "        await get_channel_stats(start_date, end_date)\n",
        "\n",
        "# Запуск main() в асинхронной среде\n",
        "await main()"
      ],
      "metadata": {
        "id": "sUpHZaNsOcTE"
      },
      "execution_count": null,
      "outputs": []
    },
    {
      "cell_type": "markdown",
      "source": [
        "**Использовать следующую ячейку при многоразовом запуске кода, нужна для завершения сеанса**"
      ],
      "metadata": {
        "id": "13NiYHKeZ1oW"
      }
    },
    {
      "cell_type": "code",
      "source": [
        "# Завершение клиента и пауза\n",
        "await client.disconnect()\n",
        "#await asyncio.sleep(1)  # Небольшая пауза для завершения фоновых задач"
      ],
      "metadata": {
        "id": "XJu87bUuRYUZ"
      },
      "execution_count": null,
      "outputs": []
    },
    {
      "cell_type": "markdown",
      "source": [
        "**Посмотреть получившуюсь таблицу**"
      ],
      "metadata": {
        "id": "11BK_RAUaOwl"
      }
    },
    {
      "cell_type": "code",
      "source": [
        "df = pd.read_excel('telegram_extra_stats.xlsx')\n",
        "df"
      ],
      "metadata": {
        "id": "ePoCfSStVEMW"
      },
      "execution_count": null,
      "outputs": []
    },
    {
      "cell_type": "markdown",
      "source": [
        "# **Для ежемесячной статистики**:"
      ],
      "metadata": {
        "id": "wIuXlSIQhoZA"
      }
    },
    {
      "cell_type": "markdown",
      "source": [
        "**Скачиваем финальную таблицу**"
      ],
      "metadata": {
        "id": "3xaz6XK9islM"
      }
    },
    {
      "cell_type": "code",
      "source": [
        "df_transposed.to_excel('telegram_extra_stats.xlsx', index=True)\n",
        "from google.colab import files\n",
        "\n",
        "# Скачивание файла\n",
        "files.download('telegram_extra_stats.xlsx')"
      ],
      "metadata": {
        "id": "zsTtQSvCfVZM"
      },
      "execution_count": null,
      "outputs": []
    },
    {
      "cell_type": "markdown",
      "source": [
        "# **Для еженедельной статистики**"
      ],
      "metadata": {
        "id": "i7hIFeiYiP7A"
      }
    },
    {
      "cell_type": "code",
      "source": [
        "# Переставляем столбцы в нужном порядке\n",
        "df = df[['post_title', 'post_link', 'date', 'views', 'reactions', 'public_reposts', 'private_reposts', 'comments']]\n",
        "\n",
        "# Преобразуем столбец с датой в формат ДД-ММ\n",
        "df['date'] = pd.to_datetime(df['date'], format='%d-%m-%y').dt.strftime('%d-%m')\n",
        "\n",
        "# Транспонируем DataFrame, чтобы сделать столбцы строками\n",
        "df_transposed = df.T\n",
        "\n",
        "# Переименовываем индексы в соответствии с требуемыми названиями\n",
        "df_transposed.index = [\n",
        "    'Название поста',\n",
        "    'Ссылка',\n",
        "    'Дата',\n",
        "    'Просмотры',\n",
        "    'Реакции',\n",
        "    'Репосты публичные',\n",
        "    'Репосты непубличные',\n",
        "    'Комментарии'\n",
        "]\n",
        "# Теперь df_transposed содержит нужную структуру\n",
        "df_transposed"
      ],
      "metadata": {
        "id": "Q1SlO2yBYWp1"
      },
      "execution_count": null,
      "outputs": []
    },
    {
      "cell_type": "markdown",
      "source": [
        "**Скачиваем финальную таблицу**"
      ],
      "metadata": {
        "id": "JtMYF_x1arh7"
      }
    },
    {
      "cell_type": "code",
      "source": [
        "df_transposed.to_excel('telegram_extra_stats.xlsx', index=True)\n",
        "from google.colab import files\n",
        "\n",
        "# Скачивание файла\n",
        "files.download('telegram_extra_stats.xlsx')"
      ],
      "metadata": {
        "colab": {
          "base_uri": "https://localhost:8080/",
          "height": 17
        },
        "id": "1_ICcX4hYsYu",
        "outputId": "615eacb1-9271-4f7e-f5ef-8064f30e795d"
      },
      "execution_count": null,
      "outputs": [
        {
          "output_type": "display_data",
          "data": {
            "text/plain": [
              "<IPython.core.display.Javascript object>"
            ],
            "application/javascript": [
              "\n",
              "    async function download(id, filename, size) {\n",
              "      if (!google.colab.kernel.accessAllowed) {\n",
              "        return;\n",
              "      }\n",
              "      const div = document.createElement('div');\n",
              "      const label = document.createElement('label');\n",
              "      label.textContent = `Downloading \"${filename}\": `;\n",
              "      div.appendChild(label);\n",
              "      const progress = document.createElement('progress');\n",
              "      progress.max = size;\n",
              "      div.appendChild(progress);\n",
              "      document.body.appendChild(div);\n",
              "\n",
              "      const buffers = [];\n",
              "      let downloaded = 0;\n",
              "\n",
              "      const channel = await google.colab.kernel.comms.open(id);\n",
              "      // Send a message to notify the kernel that we're ready.\n",
              "      channel.send({})\n",
              "\n",
              "      for await (const message of channel.messages) {\n",
              "        // Send a message to notify the kernel that we're ready.\n",
              "        channel.send({})\n",
              "        if (message.buffers) {\n",
              "          for (const buffer of message.buffers) {\n",
              "            buffers.push(buffer);\n",
              "            downloaded += buffer.byteLength;\n",
              "            progress.value = downloaded;\n",
              "          }\n",
              "        }\n",
              "      }\n",
              "      const blob = new Blob(buffers, {type: 'application/binary'});\n",
              "      const a = document.createElement('a');\n",
              "      a.href = window.URL.createObjectURL(blob);\n",
              "      a.download = filename;\n",
              "      div.appendChild(a);\n",
              "      a.click();\n",
              "      div.remove();\n",
              "    }\n",
              "  "
            ]
          },
          "metadata": {}
        },
        {
          "output_type": "display_data",
          "data": {
            "text/plain": [
              "<IPython.core.display.Javascript object>"
            ],
            "application/javascript": [
              "download(\"download_327e7ed6-4250-4b95-9e29-ad9cfe2c3c46\", \"telegram_extra_stats.xlsx\", 5697)"
            ]
          },
          "metadata": {}
        }
      ]
    }
  ]
}